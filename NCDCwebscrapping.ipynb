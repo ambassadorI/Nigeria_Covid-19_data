{
 "cells": [
  {
   "cell_type": "code",
   "execution_count": 4,
   "metadata": {},
   "outputs": [],
   "source": [
    "import requests\n",
    "import pandas as pd\n",
    "from bs4 import BeautifulSoup"
   ]
  },
  {
   "cell_type": "code",
   "execution_count": 5,
   "metadata": {},
   "outputs": [],
   "source": [
    "url = 'https://covid19.ncdc.gov.ng/'\n",
    "\n",
    "headers = {'User-Agent': 'Mozilla'}\n",
    "\n",
    "response = requests.get(url, headers = headers)\n",
    "response.status_code\n",
    "\n",
    "soup = BeautifulSoup(response.content, 'html.parser')\n",
    "stat_tab = soup.find_all(\"table\", id='custom1')\n",
    "\n",
    "data = pd.read_html(str(stat_tab))[0] #table saved as a DataFrame"
   ]
  }
 ],
 "metadata": {
  "kernelspec": {
   "display_name": "Python 3",
   "language": "python",
   "name": "python3"
  },
  "language_info": {
   "codemirror_mode": {
    "name": "ipython",
    "version": 3
   },
   "file_extension": ".py",
   "mimetype": "text/x-python",
   "name": "python",
   "nbconvert_exporter": "python",
   "pygments_lexer": "ipython3",
   "version": "3.7.3"
  }
 },
 "nbformat": 4,
 "nbformat_minor": 2
}
